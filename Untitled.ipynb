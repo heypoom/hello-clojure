{
 "cells": [
  {
   "cell_type": "code",
   "execution_count": 1,
   "metadata": {},
   "outputs": [
    {
     "data": {
      "text/plain": [
       "Hello\n",
       "6\n",
       "<nil>\n",
       "\n"
      ]
     },
     "execution_count": 1,
     "metadata": {},
     "output_type": "execute_result"
    }
   ],
   "source": [
    "fmt.Println(\"Hello\")"
   ]
  },
  {
   "cell_type": "code",
   "execution_count": 2,
   "metadata": {},
   "outputs": [
    {
     "ename": "Error",
     "evalue": "<continue input>",
     "output_type": "error",
     "traceback": [
      ""
     ]
    }
   ],
   "source": [
    "import \"os\""
   ]
  },
  {
   "cell_type": "code",
   "execution_count": 4,
   "metadata": {},
   "outputs": [
    {
     "data": {
      "text/plain": [
       "Hello\n",
       "\"D\"\n",
       "\n"
      ]
     },
     "execution_count": 4,
     "metadata": {},
     "output_type": "execute_result"
    }
   ],
   "source": [
    "fmt.Sprintf(\"D\")"
   ]
  },
  {
   "cell_type": "code",
   "execution_count": 5,
   "metadata": {},
   "outputs": [
    {
     "ename": "Error",
     "evalue": "exit status 2",
     "output_type": "error",
     "traceback": [
      "# command-line-arguments\n/var/folders/ld/wvhk0wnx49176rt_01d1c2rw0000gp/T/404138229/gore_session.go:10:76: cannot use \"Hello %s\" (type string) as type io.Writer in argument to fmt.Fprintf:\n\tstring does not implement io.Writer (missing Write method)\n"
     ]
    }
   ],
   "source": [
    "fmt.Fprintf(\"Hello %s\", \"World\")"
   ]
  },
  {
   "cell_type": "code",
   "execution_count": 6,
   "metadata": {},
   "outputs": [
    {
     "ename": "Error",
     "evalue": "exit status 2",
     "output_type": "error",
     "traceback": [
      "# command-line-arguments\n/var/folders/ld/wvhk0wnx49176rt_01d1c2rw0000gp/T/404138229/gore_session.go:10:64: undefined: io\n"
     ]
    }
   ],
   "source": [
    "io"
   ]
  },
  {
   "cell_type": "code",
   "execution_count": 7,
   "metadata": {},
   "outputs": [
    {
     "ename": "Error",
     "evalue": "<continue input>",
     "output_type": "error",
     "traceback": [
      ""
     ]
    }
   ],
   "source": [
    "import \"io\""
   ]
  },
  {
   "cell_type": "code",
   "execution_count": 8,
   "metadata": {},
   "outputs": [
    {
     "ename": "Error",
     "evalue": "<continue input>",
     "output_type": "error",
     "traceback": [
      ""
     ]
    }
   ],
   "source": [
    "()"
   ]
  },
  {
   "cell_type": "code",
   "execution_count": null,
   "metadata": {},
   "outputs": [],
   "source": []
  }
 ],
 "metadata": {
  "kernelspec": {
   "display_name": "Go (gopherlab)",
   "language": "go",
   "name": "gopherlab"
  },
  "language_info": {
   "file_extension": ".go",
   "mimetype": "application/x-golang",
   "name": "go",
   "version": "go1.9.2"
  }
 },
 "nbformat": 4,
 "nbformat_minor": 2
}
